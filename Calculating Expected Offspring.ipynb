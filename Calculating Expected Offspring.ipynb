{
 "cells": [
  {
   "cell_type": "markdown",
   "metadata": {},
   "source": [
    "### Calculating Expected Offspring\n",
    "\n",
    "<a href=\"http://rosalind.info/problems/iev/\">Question Link</a>\n",
    "\n",
    "![title](img/offspring.png)\n"
   ]
  },
  {
   "cell_type": "code",
   "execution_count": 1,
   "metadata": {},
   "outputs": [],
   "source": [
    "from itertools import product\n",
    "\n",
    "def avg_offspring_calculate(input_offs):\n",
    "    offspring_dict = {1:(\"AA\", \"AA\"), 2:(\"AA\", \"Aa\"), 3:(\"AA\", \"aa\"), 4:(\"Aa\", \"Aa\"), 5:(\"Aa\", \"aa\"), 6:(\"aa\", \"aa\")}\n",
    "    pop_info = input_offs.split(\" \")\n",
    "    offspring_pop_dict = {a+1:int(pop_info[a]) for a in range(len(pop_info))}\n",
    "    count = 0\n",
    "    total = 0\n",
    "    for off_key, off_val in offspring_dict.items():\n",
    "        vals=list(product(list(off_val[0]), list(off_val[1])))\n",
    "        vals_ = [\"\".join(v) for v in vals]\n",
    "        print(vals_)        \n",
    "        total_middle = 0\n",
    "        for v in vals_:\n",
    "            if \"A\" in v:\n",
    "                total_middle += 1\n",
    "        prob = total_middle/len(vals_)\n",
    "        total += prob*offspring_pop_dict[off_key]*2\n",
    "\n",
    "\n",
    "    print(total)\n",
    "    return total"
   ]
  },
  {
   "cell_type": "code",
   "execution_count": 2,
   "metadata": {
    "scrolled": false
   },
   "outputs": [
    {
     "name": "stdout",
     "output_type": "stream",
     "text": [
      "['AA', 'AA', 'AA', 'AA']\n",
      "['AA', 'Aa', 'AA', 'Aa']\n",
      "['Aa', 'Aa', 'Aa', 'Aa']\n",
      "['AA', 'Aa', 'aA', 'aa']\n",
      "['Aa', 'Aa', 'aa', 'aa']\n",
      "['aa', 'aa', 'aa', 'aa']\n",
      "3.5\n"
     ]
    }
   ],
   "source": [
    "result = avg_offspring_calculate(\"1 0 0 1 0 1\")"
   ]
  },
  {
   "cell_type": "code",
   "execution_count": 3,
   "metadata": {
    "scrolled": true
   },
   "outputs": [
    {
     "name": "stdout",
     "output_type": "stream",
     "text": [
      "['AA', 'AA', 'AA', 'AA']\n",
      "['AA', 'Aa', 'AA', 'Aa']\n",
      "['Aa', 'Aa', 'Aa', 'Aa']\n",
      "['AA', 'Aa', 'aA', 'aa']\n",
      "['Aa', 'Aa', 'aa', 'aa']\n",
      "['aa', 'aa', 'aa', 'aa']\n",
      "153011.5\n"
     ]
    }
   ],
   "source": [
    "result = avg_offspring_calculate(\"19578 16986 18706 17089 16838 19064\")"
   ]
  },
  {
   "cell_type": "code",
   "execution_count": null,
   "metadata": {},
   "outputs": [],
   "source": []
  }
 ],
 "metadata": {
  "kernelspec": {
   "display_name": "Python 3",
   "language": "python",
   "name": "python3"
  },
  "language_info": {
   "codemirror_mode": {
    "name": "ipython",
    "version": 3
   },
   "file_extension": ".py",
   "mimetype": "text/x-python",
   "name": "python",
   "nbconvert_exporter": "python",
   "pygments_lexer": "ipython3",
   "version": "3.7.2"
  }
 },
 "nbformat": 4,
 "nbformat_minor": 2
}
