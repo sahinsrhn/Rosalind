{
 "cells": [
  {
   "cell_type": "markdown",
   "metadata": {},
   "source": [
    "### Mendel's First Law"
   ]
  },
  {
   "cell_type": "markdown",
   "metadata": {},
   "source": [
    "# Problem\n",
    "\n",
    "<a href=\"http://rosalind.info/problems/iprb/\">Question Link</a>\n",
    "\n",
    "![title](img/mendel_first_law.png)\n"
   ]
  },
  {
   "cell_type": "code",
   "execution_count": 1,
   "metadata": {},
   "outputs": [],
   "source": [
    "from itertools import product\n",
    "\n",
    "def prob_calculate(hmD,ht,hmR):\n",
    "    total_list = [(\"A\",\"A\") for a in range(hmD)]\n",
    "    total_list.extend([(\"A\",\"a\") for a in range(ht)])\n",
    "    total_list.extend([(\"a\",\"a\") for a in range(hmR)])\n",
    "    my_list = []\n",
    "    for k in range(len(total_list)):\n",
    "        try:\n",
    "            for j in range(k+1,len(total_list)):\n",
    "                my_list.append((total_list[k],total_list[j]))\n",
    "        except (IndexError) as err:\n",
    "            pass\n",
    "        \n",
    "    final_each_list = []\n",
    "    for couple in my_list:\n",
    "        final_each_list.append(list(product(couple[0], couple[1])))\n",
    "            \n",
    "    d_list = []\n",
    "    for c in final_each_list:\n",
    "        d_list = d_list + c\n",
    "\n",
    "    last_list = [ \"\".join(d) for d in d_list]\n",
    "    \n",
    "    count = 0\n",
    "    for a in last_list:\n",
    "        if a == \"aa\":\n",
    "            count += 1\n",
    "    result = 1-(count/len(last_list))\n",
    "    return result\n",
    "\n"
   ]
  },
  {
   "cell_type": "code",
   "execution_count": 2,
   "metadata": {},
   "outputs": [
    {
     "name": "stdout",
     "output_type": "stream",
     "text": [
      "0.7833333333333333\n",
      "0.6595982142857143\n"
     ]
    }
   ],
   "source": [
    "c_list = prob_calculate(2, 2, 2)\n",
    "print(c_list)\n",
    "c_list = prob_calculate(19, 15, 30)\n",
    "print(c_list)"
   ]
  }
 ],
 "metadata": {
  "kernelspec": {
   "display_name": "Python 3",
   "language": "python",
   "name": "python3"
  },
  "language_info": {
   "codemirror_mode": {
    "name": "ipython",
    "version": 3
   },
   "file_extension": ".py",
   "mimetype": "text/x-python",
   "name": "python",
   "nbconvert_exporter": "python",
   "pygments_lexer": "ipython3",
   "version": "3.7.2"
  }
 },
 "nbformat": 4,
 "nbformat_minor": 2
}
